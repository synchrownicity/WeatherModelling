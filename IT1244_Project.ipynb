{
  "nbformat": 4,
  "nbformat_minor": 0,
  "metadata": {
    "colab": {
      "provenance": [],
      "include_colab_link": true
    },
    "kernelspec": {
      "name": "python3",
      "display_name": "Python 3"
    },
    "language_info": {
      "name": "python"
    }
  },
  "cells": [
    {
      "cell_type": "markdown",
      "metadata": {
        "id": "view-in-github",
        "colab_type": "text"
      },
      "source": [
        "<a href=\"https://colab.research.google.com/github/lesstimeless/IT1244_weather/blob/main/IT1244_Project.ipynb\" target=\"_parent\"><img src=\"https://colab.research.google.com/assets/colab-badge.svg\" alt=\"Open In Colab\"/></a>"
      ]
    },
    {
      "cell_type": "markdown",
      "source": [
        "Hi"
      ],
      "metadata": {
        "id": "6D366CCPdx1g"
      }
    },
    {
      "cell_type": "code",
      "execution_count": 1,
      "metadata": {
        "id": "y77FsroFdjVT"
      },
      "outputs": [],
      "source": [
        "import pandas as pd"
      ]
    },
    {
      "cell_type": "code",
      "source": [
        "df = pd.read_csv(\"https://raw.githubusercontent.com/lesstimeless/IT1244_weather/refs/heads/main/weather_data.csv?token=GHSAT0AAAAAAC7NG72TZFERY6XRYGZTCWOKZ6U7FGQ\")\n",
        "\n",
        "head = df.head()"
      ],
      "metadata": {
        "id": "DF5KroLq6KqN"
      },
      "execution_count": 4,
      "outputs": []
    },
    {
      "cell_type": "code",
      "source": [
        "print(head)"
      ],
      "metadata": {
        "id": "awZZte7k7aBm",
        "outputId": "bce05961-5bae-4396-a945-29ecaa2234de",
        "colab": {
          "base_uri": "https://localhost:8080/"
        }
      },
      "execution_count": 5,
      "outputs": [
        {
          "output_type": "stream",
          "name": "stdout",
          "text": [
            "   temperature  wind_speed  mean_sea_level_pressure  surface_solar_radiation  \\\n",
            "0        18.26        2.60                101046.38                   287.01   \n",
            "1        18.67        2.91                101037.96                   360.79   \n",
            "2        18.16        3.26                101017.26                   291.54   \n",
            "3        18.46        3.17                101022.56                   357.11   \n",
            "4        18.53        2.95                100940.03                   459.91   \n",
            "\n",
            "   surface_thermal_radiation  total_cloud_cover  relative_humidity  \n",
            "0                     408.35                1.0               0.89  \n",
            "1                     411.02                1.0               0.86  \n",
            "2                     410.67                1.0               0.87  \n",
            "3                     410.95                1.0               0.82  \n",
            "4                     410.00                0.9               0.80  \n"
          ]
        }
      ]
    }
  ]
}